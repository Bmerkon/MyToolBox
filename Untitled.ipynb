{
 "cells": [
  {
   "cell_type": "markdown",
   "metadata": {
    "toc": "true"
   },
   "source": [
    " # Table of Contents\n",
    "<div class=\"toc\" style=\"margin-top: 1em;\"><ul class=\"toc-item\" id=\"toc-level0\"></ul></div>"
   ]
  },
  {
   "cell_type": "code",
   "execution_count": 1,
   "metadata": {
    "collapsed": true
   },
   "outputs": [],
   "source": [
    "from BmerkonToolBox.DataImport.JuyuanQuery import JuYuanDB"
   ]
  },
  {
   "cell_type": "code",
   "execution_count": 2,
   "metadata": {},
   "outputs": [
    {
     "data": {
      "text/html": [
       "<div>\n",
       "<style scoped>\n",
       "    .dataframe tbody tr th:only-of-type {\n",
       "        vertical-align: middle;\n",
       "    }\n",
       "\n",
       "    .dataframe tbody tr th {\n",
       "        vertical-align: top;\n",
       "    }\n",
       "\n",
       "    .dataframe thead th {\n",
       "        text-align: right;\n",
       "    }\n",
       "</style>\n",
       "<table border=\"1\" class=\"dataframe\">\n",
       "  <thead>\n",
       "    <tr style=\"text-align: right;\">\n",
       "      <th></th>\n",
       "      <th>SecuCode</th>\n",
       "      <th>CompanyCode</th>\n",
       "      <th>ChiName</th>\n",
       "      <th>ListedDate</th>\n",
       "      <th>Exchange</th>\n",
       "      <th>sState</th>\n",
       "      <th>SecuAbbr</th>\n",
       "    </tr>\n",
       "    <tr>\n",
       "      <th>InnerCode</th>\n",
       "      <th></th>\n",
       "      <th></th>\n",
       "      <th></th>\n",
       "      <th></th>\n",
       "      <th></th>\n",
       "      <th></th>\n",
       "      <th></th>\n",
       "    </tr>\n",
       "  </thead>\n",
       "  <tbody>\n",
       "    <tr>\n",
       "      <th>157316</th>\n",
       "      <td>001965</td>\n",
       "      <td>5962</td>\n",
       "      <td>招商局公路网络科技控股股份有限公司</td>\n",
       "      <td>2017-12-25</td>\n",
       "      <td>深圳证券交易所</td>\n",
       "      <td>上市</td>\n",
       "      <td>招商公路</td>\n",
       "    </tr>\n",
       "    <tr>\n",
       "      <th>158259</th>\n",
       "      <td>603712</td>\n",
       "      <td>250053</td>\n",
       "      <td>天津七一二通信广播股份有限公司</td>\n",
       "      <td>2018-02-26</td>\n",
       "      <td>上海证券交易所</td>\n",
       "      <td>上市</td>\n",
       "      <td>七 一 二</td>\n",
       "    </tr>\n",
       "    <tr>\n",
       "      <th>159411</th>\n",
       "      <td>002929</td>\n",
       "      <td>221169</td>\n",
       "      <td>润建通信股份有限公司</td>\n",
       "      <td>2018-03-01</td>\n",
       "      <td>深圳证券交易所</td>\n",
       "      <td>上市</td>\n",
       "      <td>润建通信</td>\n",
       "    </tr>\n",
       "    <tr>\n",
       "      <th>159558</th>\n",
       "      <td>600929</td>\n",
       "      <td>236722</td>\n",
       "      <td>湖南盐业股份有限公司</td>\n",
       "      <td>2018-03-26</td>\n",
       "      <td>上海证券交易所</td>\n",
       "      <td>上市</td>\n",
       "      <td>湖南盐业</td>\n",
       "    </tr>\n",
       "    <tr>\n",
       "      <th>161248</th>\n",
       "      <td>002930</td>\n",
       "      <td>218396</td>\n",
       "      <td>广东宏川智慧物流股份有限公司</td>\n",
       "      <td>2018-03-28</td>\n",
       "      <td>深圳证券交易所</td>\n",
       "      <td>上市</td>\n",
       "      <td>宏川智慧</td>\n",
       "    </tr>\n",
       "  </tbody>\n",
       "</table>\n",
       "</div>"
      ],
      "text/plain": [
       "          SecuCode  CompanyCode            ChiName ListedDate Exchange sState  \\\n",
       "InnerCode                                                                       \n",
       "157316      001965         5962  招商局公路网络科技控股股份有限公司 2017-12-25  深圳证券交易所     上市   \n",
       "158259      603712       250053    天津七一二通信广播股份有限公司 2018-02-26  上海证券交易所     上市   \n",
       "159411      002929       221169         润建通信股份有限公司 2018-03-01  深圳证券交易所     上市   \n",
       "159558      600929       236722         湖南盐业股份有限公司 2018-03-26  上海证券交易所     上市   \n",
       "161248      002930       218396     广东宏川智慧物流股份有限公司 2018-03-28  深圳证券交易所     上市   \n",
       "\n",
       "          SecuAbbr  \n",
       "InnerCode           \n",
       "157316        招商公路  \n",
       "158259       七 一 二  \n",
       "159411        润建通信  \n",
       "159558        湖南盐业  \n",
       "161248        宏川智慧  "
      ]
     },
     "execution_count": 2,
     "metadata": {},
     "output_type": "execute_result"
    }
   ],
   "source": [
    "jdb=JuYuanDB()\n",
    "data=jdb.query_stockinfo()\n",
    "data.tail()"
   ]
  },
  {
   "cell_type": "code",
   "execution_count": 12,
   "metadata": {},
   "outputs": [
    {
     "data": {
      "text/plain": [
       "DSN          JuYuan\n",
       "PWD    jyuser123456\n",
       "UID          JYUSER\n",
       "dtype: object"
      ]
     },
     "execution_count": 12,
     "metadata": {},
     "output_type": "execute_result"
    }
   ],
   "source": [
    "import json\n",
    "data=pd.Series(json.load(open('BmerkonToolBox/DataImport/DBsetting.json')))\n",
    "data\n"
   ]
  }
 ],
 "metadata": {
  "hide_input": false,
  "kernelspec": {
   "display_name": "Python 3",
   "language": "python",
   "name": "python3"
  },
  "language_info": {
   "codemirror_mode": {
    "name": "ipython",
    "version": 3
   },
   "file_extension": ".py",
   "mimetype": "text/x-python",
   "name": "python",
   "nbconvert_exporter": "python",
   "pygments_lexer": "ipython3",
   "version": "3.5.4"
  },
  "toc": {
   "nav_menu": {},
   "number_sections": true,
   "sideBar": true,
   "skip_h1_title": true,
   "toc_cell": true,
   "toc_position": {},
   "toc_section_display": "block",
   "toc_window_display": false
  },
  "varInspector": {
   "cols": {
    "lenName": 16,
    "lenType": 16,
    "lenVar": 40
   },
   "kernels_config": {
    "python": {
     "delete_cmd_postfix": "",
     "delete_cmd_prefix": "del ",
     "library": "var_list.py",
     "varRefreshCmd": "print(var_dic_list())"
    },
    "r": {
     "delete_cmd_postfix": ") ",
     "delete_cmd_prefix": "rm(",
     "library": "var_list.r",
     "varRefreshCmd": "cat(var_dic_list()) "
    }
   },
   "types_to_exclude": [
    "module",
    "function",
    "builtin_function_or_method",
    "instance",
    "_Feature"
   ],
   "window_display": false
  }
 },
 "nbformat": 4,
 "nbformat_minor": 2
}
